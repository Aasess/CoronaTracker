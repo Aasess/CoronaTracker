{
 "cells": [
  {
   "cell_type": "code",
   "execution_count": 3,
   "metadata": {},
   "outputs": [],
   "source": [
    "import pandas as pd\n",
    "import numpy as np\n",
    "import requests\n",
    "import json"
   ]
  },
  {
   "cell_type": "code",
   "execution_count": 4,
   "metadata": {},
   "outputs": [],
   "source": [
    "datasource = requests.get(\"https://raw.githubusercontent.com/pomber/covid19/master/docs/timeseries.json\")"
   ]
  },
  {
   "cell_type": "code",
   "execution_count": 5,
   "metadata": {},
   "outputs": [],
   "source": [
    "data = datasource.json()"
   ]
  },
  {
   "cell_type": "code",
   "execution_count": 6,
   "metadata": {},
   "outputs": [
    {
     "data": {
      "text/plain": [
       "dict"
      ]
     },
     "execution_count": 6,
     "metadata": {},
     "output_type": "execute_result"
    }
   ],
   "source": [
    "type(data)"
   ]
  },
  {
   "cell_type": "code",
   "execution_count": 7,
   "metadata": {},
   "outputs": [],
   "source": [
    "#taking only of Italy.However can be done for any country(have to check how accurate the model is based on MAE)\n",
    "country_df = data[\"Italy\"]"
   ]
  },
  {
   "cell_type": "code",
   "execution_count": 8,
   "metadata": {},
   "outputs": [],
   "source": [
    "country_df = pd.DataFrame(country_df)"
   ]
  },
  {
   "cell_type": "code",
   "execution_count": 9,
   "metadata": {},
   "outputs": [
    {
     "name": "stdout",
     "output_type": "stream",
     "text": [
      "<class 'pandas.core.frame.DataFrame'>\n",
      "RangeIndex: 104 entries, 0 to 103\n",
      "Data columns (total 4 columns):\n",
      "date         104 non-null object\n",
      "confirmed    104 non-null int64\n",
      "deaths       104 non-null int64\n",
      "recovered    104 non-null int64\n",
      "dtypes: int64(3), object(1)\n",
      "memory usage: 3.4+ KB\n"
     ]
    }
   ],
   "source": [
    "country_df.info()"
   ]
  },
  {
   "cell_type": "code",
   "execution_count": 10,
   "metadata": {},
   "outputs": [],
   "source": [
    "#converting date object to datetime \n",
    "country_df[\"date\"] = pd.to_datetime(country_df[\"date\"])"
   ]
  },
  {
   "cell_type": "code",
   "execution_count": 12,
   "metadata": {},
   "outputs": [
    {
     "data": {
      "text/plain": [
       "Timestamp('2020-01-22 00:00:00')"
      ]
     },
     "execution_count": 12,
     "metadata": {},
     "output_type": "execute_result"
    }
   ],
   "source": [
    "country_df[\"date\"][0]"
   ]
  },
  {
   "cell_type": "code",
   "execution_count": 13,
   "metadata": {},
   "outputs": [
    {
     "name": "stdout",
     "output_type": "stream",
     "text": [
      "<class 'pandas.core.frame.DataFrame'>\n",
      "RangeIndex: 104 entries, 0 to 103\n",
      "Data columns (total 4 columns):\n",
      "date         104 non-null datetime64[ns]\n",
      "confirmed    104 non-null int64\n",
      "deaths       104 non-null int64\n",
      "recovered    104 non-null int64\n",
      "dtypes: datetime64[ns](1), int64(3)\n",
      "memory usage: 3.4 KB\n"
     ]
    }
   ],
   "source": [
    "country_df_tmp = country_df.copy()\n",
    "country_df_tmp.info()"
   ]
  },
  {
   "cell_type": "code",
   "execution_count": 14,
   "metadata": {},
   "outputs": [
    {
     "name": "stdout",
     "output_type": "stream",
     "text": [
      "<class 'pandas.core.frame.DataFrame'>\n",
      "RangeIndex: 104 entries, 0 to 103\n",
      "Data columns (total 4 columns):\n",
      "date         104 non-null object\n",
      "confirmed    104 non-null int64\n",
      "deaths       104 non-null int64\n",
      "recovered    104 non-null int64\n",
      "dtypes: int64(3), object(1)\n",
      "memory usage: 3.4+ KB\n"
     ]
    }
   ],
   "source": [
    "#mybad again converting datetime back to object(string) \n",
    "country_df_tmp[\"date\"] = country_df_tmp[\"date\"].apply(lambda x: x.strftime('%Y-%m-%d'))\n",
    "country_df_tmp.info()"
   ]
  },
  {
   "cell_type": "code",
   "execution_count": 15,
   "metadata": {},
   "outputs": [
    {
     "data": {
      "text/plain": [
       "(83, 21)"
      ]
     },
     "execution_count": 15,
     "metadata": {},
     "output_type": "execute_result"
    }
   ],
   "source": [
    "#splitting into label and target as shown below\n",
    "X = country_df_tmp.drop(\"confirmed\",axis = 1)\n",
    "y = country_df_tmp[\"confirmed\"]\n",
    "\n",
    "#lets split into training and validation\n",
    "train_split = round(0.8 * len(country_df_tmp)) # 80 % for training the data\n",
    "X_train,y_train = X[:train_split],y[:train_split]\n",
    "X_valid,y_valid = X[train_split:],y[train_split:]\n",
    "\n",
    "len(X_train),len(X_valid)"
   ]
  },
  {
   "cell_type": "code",
   "execution_count": 16,
   "metadata": {},
   "outputs": [],
   "source": [
    "from datetime import datetime,timedelta,date\n",
    "FMT = '%Y-%m-%d'\n",
    "date = country_df_tmp['date']\n",
    "#note: I have counted the data from january 1,2020 .for e.g : if today is march 05,2020 then the data column is obtained by\n",
    "#subtracting today date with jan 1,2020.\n",
    "\n",
    "country_df_tmp['data'] = date.map(lambda x : (datetime.strptime(x, FMT) - datetime.strptime(\"2020-01-01\", FMT)).days)"
   ]
  },
  {
   "cell_type": "code",
   "execution_count": 17,
   "metadata": {},
   "outputs": [
    {
     "name": "stdout",
     "output_type": "stream",
     "text": [
      "<class 'pandas.core.frame.DataFrame'>\n",
      "RangeIndex: 104 entries, 0 to 103\n",
      "Data columns (total 5 columns):\n",
      "date         104 non-null object\n",
      "confirmed    104 non-null int64\n",
      "deaths       104 non-null int64\n",
      "recovered    104 non-null int64\n",
      "data         104 non-null int64\n",
      "dtypes: int64(4), object(1)\n",
      "memory usage: 4.2+ KB\n"
     ]
    }
   ],
   "source": [
    "country_df_tmp.info()"
   ]
  },
  {
   "cell_type": "code",
   "execution_count": 18,
   "metadata": {},
   "outputs": [],
   "source": [
    "import math\n",
    "def linearregression(date,growthrate):\n",
    "    x,y = date,growthrate\n",
    "    lr = {} #dict for returning\n",
    "    n = len(growthrate)\n",
    "    sum_x = 0\n",
    "    sum_y = 0\n",
    "    sum_xy = 0\n",
    "    sum_xx = 0\n",
    "    sum_yy = 0\n",
    "    \n",
    "    for i in range(n):\n",
    "        sum_x += x[i]\n",
    "        sum_y += y[i]\n",
    "        sum_xy += x[i]*y[i]\n",
    "        sum_xx += x[i]*x[i]\n",
    "        sum_yy += y[i]*y[i]\n",
    "        \n",
    "    lr['slope'] = (n*sum_xy - sum_x * sum_y)/(n*sum_xx - sum_x * sum_y)\n",
    "    lr['intercept'] = (sum_y - lr['slope'] * sum_x)/n\n",
    "    return lr;\n",
    "    "
   ]
  },
  {
   "cell_type": "code",
   "execution_count": 19,
   "metadata": {},
   "outputs": [
    {
     "data": {
      "text/html": [
       "<div>\n",
       "<style scoped>\n",
       "    .dataframe tbody tr th:only-of-type {\n",
       "        vertical-align: middle;\n",
       "    }\n",
       "\n",
       "    .dataframe tbody tr th {\n",
       "        vertical-align: top;\n",
       "    }\n",
       "\n",
       "    .dataframe thead th {\n",
       "        text-align: right;\n",
       "    }\n",
       "</style>\n",
       "<table border=\"1\" class=\"dataframe\">\n",
       "  <thead>\n",
       "    <tr style=\"text-align: right;\">\n",
       "      <th></th>\n",
       "      <th>date</th>\n",
       "      <th>confirmed</th>\n",
       "      <th>deaths</th>\n",
       "      <th>recovered</th>\n",
       "      <th>data</th>\n",
       "    </tr>\n",
       "  </thead>\n",
       "  <tbody>\n",
       "    <tr>\n",
       "      <td>0</td>\n",
       "      <td>2020-01-22</td>\n",
       "      <td>0</td>\n",
       "      <td>0</td>\n",
       "      <td>0</td>\n",
       "      <td>21</td>\n",
       "    </tr>\n",
       "    <tr>\n",
       "      <td>1</td>\n",
       "      <td>2020-01-23</td>\n",
       "      <td>0</td>\n",
       "      <td>0</td>\n",
       "      <td>0</td>\n",
       "      <td>22</td>\n",
       "    </tr>\n",
       "    <tr>\n",
       "      <td>2</td>\n",
       "      <td>2020-01-24</td>\n",
       "      <td>0</td>\n",
       "      <td>0</td>\n",
       "      <td>0</td>\n",
       "      <td>23</td>\n",
       "    </tr>\n",
       "    <tr>\n",
       "      <td>3</td>\n",
       "      <td>2020-01-25</td>\n",
       "      <td>0</td>\n",
       "      <td>0</td>\n",
       "      <td>0</td>\n",
       "      <td>24</td>\n",
       "    </tr>\n",
       "    <tr>\n",
       "      <td>4</td>\n",
       "      <td>2020-01-26</td>\n",
       "      <td>0</td>\n",
       "      <td>0</td>\n",
       "      <td>0</td>\n",
       "      <td>25</td>\n",
       "    </tr>\n",
       "    <tr>\n",
       "      <td>...</td>\n",
       "      <td>...</td>\n",
       "      <td>...</td>\n",
       "      <td>...</td>\n",
       "      <td>...</td>\n",
       "      <td>...</td>\n",
       "    </tr>\n",
       "    <tr>\n",
       "      <td>99</td>\n",
       "      <td>2020-04-30</td>\n",
       "      <td>205463</td>\n",
       "      <td>27967</td>\n",
       "      <td>75945</td>\n",
       "      <td>120</td>\n",
       "    </tr>\n",
       "    <tr>\n",
       "      <td>100</td>\n",
       "      <td>2020-05-01</td>\n",
       "      <td>207428</td>\n",
       "      <td>28236</td>\n",
       "      <td>78249</td>\n",
       "      <td>121</td>\n",
       "    </tr>\n",
       "    <tr>\n",
       "      <td>101</td>\n",
       "      <td>2020-05-02</td>\n",
       "      <td>209328</td>\n",
       "      <td>28710</td>\n",
       "      <td>79914</td>\n",
       "      <td>122</td>\n",
       "    </tr>\n",
       "    <tr>\n",
       "      <td>102</td>\n",
       "      <td>2020-05-03</td>\n",
       "      <td>210717</td>\n",
       "      <td>28884</td>\n",
       "      <td>81654</td>\n",
       "      <td>123</td>\n",
       "    </tr>\n",
       "    <tr>\n",
       "      <td>103</td>\n",
       "      <td>2020-05-04</td>\n",
       "      <td>211938</td>\n",
       "      <td>29079</td>\n",
       "      <td>82879</td>\n",
       "      <td>124</td>\n",
       "    </tr>\n",
       "  </tbody>\n",
       "</table>\n",
       "<p>104 rows × 5 columns</p>\n",
       "</div>"
      ],
      "text/plain": [
       "           date  confirmed  deaths  recovered  data\n",
       "0    2020-01-22          0       0          0    21\n",
       "1    2020-01-23          0       0          0    22\n",
       "2    2020-01-24          0       0          0    23\n",
       "3    2020-01-25          0       0          0    24\n",
       "4    2020-01-26          0       0          0    25\n",
       "..          ...        ...     ...        ...   ...\n",
       "99   2020-04-30     205463   27967      75945   120\n",
       "100  2020-05-01     207428   28236      78249   121\n",
       "101  2020-05-02     209328   28710      79914   122\n",
       "102  2020-05-03     210717   28884      81654   123\n",
       "103  2020-05-04     211938   29079      82879   124\n",
       "\n",
       "[104 rows x 5 columns]"
      ]
     },
     "execution_count": 19,
     "metadata": {},
     "output_type": "execute_result"
    }
   ],
   "source": [
    "country_df_tmp"
   ]
  },
  {
   "cell_type": "code",
   "execution_count": 20,
   "metadata": {},
   "outputs": [],
   "source": [
    "growthdata = []  #for observing the daily growth rate\n",
    "totalcase = []  #for observing and predicting the total future cases\n",
    "dailycase = [] #for observing and predicting the daily future new cases\n",
    "data = np.array(country_df_tmp[\"confirmed\"])\n",
    "result = 0 \n",
    "\n",
    "for i in range(len(data)):\n",
    "    totalcase.append({\n",
    "        'date' : country_df_tmp[\"data\"][i],\n",
    "        'value': country_df_tmp[\"confirmed\"][i]\n",
    "    })\n",
    "    if data[i] >= 2:# and data[i] != data[i-1] != data[i-2]:\n",
    "        if(data[i] != data[i-1] != data[i-2]):\n",
    "            current = data[i] - data[i-1]\n",
    "            prev = data[i-1] -data[i-2]\n",
    "            result = current / prev\n",
    "            growthdata.append({\n",
    "                'date':country_df_tmp[\"data\"][i],\n",
    "                'value':result\n",
    "            })\n",
    "            dailycase.append({\n",
    "                'date' : country_df_tmp[\"data\"][i],\n",
    "                'value':current\n",
    "            })\n",
    "        else:\n",
    "            growthdata.append({\n",
    "                'date':country_df_tmp[\"data\"][i],\n",
    "                'value':result\n",
    "            })\n",
    "        \n",
    "    else:\n",
    "        growthdata.append({\n",
    "            'date':country_df_tmp[\"data\"][i],\n",
    "            'value': 0\n",
    "        })"
   ]
  },
  {
   "cell_type": "code",
   "execution_count": 21,
   "metadata": {},
   "outputs": [
    {
     "data": {
      "text/plain": [
       "123"
      ]
     },
     "execution_count": 21,
     "metadata": {},
     "output_type": "execute_result"
    }
   ],
   "source": [
    "growthdata[102]['date']"
   ]
  },
  {
   "cell_type": "code",
   "execution_count": 22,
   "metadata": {},
   "outputs": [],
   "source": [
    "startindex = train_split     #80% of originaldata\n",
    "endindex = len(country_df_tmp)-1  #remaining data\n",
    "\n",
    "x_values = []\n",
    "y_values = []\n",
    "\n",
    "for i in range(startindex,endindex+1):\n",
    "    x_values.append(growthdata[i]['date'])\n",
    "    y_values.append(growthdata[i]['value'])\n",
    "    "
   ]
  },
  {
   "cell_type": "code",
   "execution_count": 23,
   "metadata": {},
   "outputs": [
    {
     "name": "stdout",
     "output_type": "stream",
     "text": [
      "[0.9425943545829368, 0.8973755047106325, 1.4195725534308212, 0.9226096143687269, 0.9994274262811337, 0.8728158120882269, 0.7404003938299967, 1.2096631205673758, 1.234884573103701, 0.7851632047477745, 1.1417233560090703, 0.7802052300562727, 0.9859991514637251, 0.7482788296041308, 1.2024151811385855, 0.9976087996174079, 0.8974113135186961, 1.0496794871794872, 0.9669211195928753, 0.7310526315789474, 0.8790496760259179]\n"
     ]
    }
   ],
   "source": [
    "print(y_values)"
   ]
  },
  {
   "cell_type": "code",
   "execution_count": 24,
   "metadata": {},
   "outputs": [],
   "source": [
    "result = linearregression(x_values,y_values)"
   ]
  },
  {
   "cell_type": "code",
   "execution_count": 25,
   "metadata": {},
   "outputs": [
    {
     "data": {
      "text/plain": [
       "{'slope': -1.802414520920869e-05, 'intercept': 0.9737143398632042}"
      ]
     },
     "execution_count": 25,
     "metadata": {},
     "output_type": "execute_result"
    }
   ],
   "source": [
    "result    #we get our slope and intercept value\n"
   ]
  },
  {
   "cell_type": "code",
   "execution_count": 26,
   "metadata": {},
   "outputs": [],
   "source": [
    "growthtrend = []\n",
    "for i in range(startindex,endindex+1):\n",
    "    actualgrowthrate = max(result['slope'] * growthdata[i]['date'] + result['intercept'], 0)\n",
    "    \n",
    "    growthtrend.append({\n",
    "    \"date\" : country_df_tmp[\"data\"][i],\n",
    "    \"value\":actualgrowthrate\n",
    "      })\n"
   ]
  },
  {
   "cell_type": "code",
   "execution_count": 27,
   "metadata": {
    "scrolled": true
   },
   "outputs": [
    {
     "data": {
      "text/plain": [
       "(0.9716595873093541, 21)"
      ]
     },
     "execution_count": 27,
     "metadata": {},
     "output_type": "execute_result"
    }
   ],
   "source": [
    "#calculating the mean of acutal growthrate:\n",
    "sumrate = 0\n",
    "for i,data in enumerate(growthtrend):\n",
    "    sumrate += growthtrend[i][\"value\"]\n",
    "\n",
    "growthratemean = (sumrate/(i+1))\n",
    "growthratemean,i+1"
   ]
  },
  {
   "cell_type": "code",
   "execution_count": 28,
   "metadata": {},
   "outputs": [
    {
     "name": "stdout",
     "output_type": "stream",
     "text": [
      "1221 211938\n"
     ]
    }
   ],
   "source": [
    "estimatedTotal = []  #for prediction of totalcases\n",
    "estimatedDailyCases= []  #for prediction of daily new cases\n",
    "currentDatedata = country_df_tmp['data'][endindex]\n",
    "\n",
    "newCases = country_df_tmp['confirmed'][endindex] - country_df_tmp['confirmed'][endindex-1]\n",
    "totalCases = country_df_tmp['confirmed'][endindex]\n",
    "print(newCases,totalCases)\n"
   ]
  },
  {
   "cell_type": "code",
   "execution_count": 29,
   "metadata": {},
   "outputs": [],
   "source": [
    "#validation step\n",
    "#we have y_valid step which is 20% of original data\n",
    "#first finding y_predicts for the same range\n",
    "y_predicts = []  #empty list\n",
    "currentcase = country_df_tmp[\"confirmed\"][startindex] - country_df_tmp['confirmed'][startindex-1]\n",
    "totalvalidCases = country_df_tmp['confirmed'][startindex]\n",
    "for i in range(startindex,endindex+1):\n",
    "    newCases = currentcase * actualgrowthrate\n",
    "    totalvalidCases += newCases\n",
    "    y_predicts.append(totalvalidCases)"
   ]
  },
  {
   "cell_type": "code",
   "execution_count": 30,
   "metadata": {},
   "outputs": [
    {
     "name": "stdout",
     "output_type": "stream",
     "text": [
      "3685.5075366703954\n"
     ]
    }
   ],
   "source": [
    "#now calculating Mean_absolute_error\n",
    "tmp_df = pd.DataFrame(y_valid)\n",
    "tmp_df[\"ypredicts\"] = y_predicts\n",
    "tmp_df[\"difference\"] = tmp_df[\"ypredicts\"] - tmp_df[\"confirmed\"]\n",
    "\n",
    "mae = np.mean(tmp_df[\"difference\"]) #which in is bit fine for such small data....\n",
    "print(mae)"
   ]
  },
  {
   "cell_type": "code",
   "execution_count": 31,
   "metadata": {},
   "outputs": [],
   "source": [
    "#now for future data prediction\n",
    "nextdate = datetime.strptime(country_df_tmp[\"date\"][endindex],FMT)\n",
    "\n",
    "for i in range(1,366):\n",
    "    nextDatedata = currentDatedata + i\n",
    "    nextdate += timedelta(days=1)\n",
    "    \n",
    "    estimatedGrowthrate = max(result['slope']*nextDatedata+result['intercept'],0)\n",
    "    #print(estimatedGrowthrate)\n",
    "    newCases = newCases * estimatedGrowthrate\n",
    "    totalCases += newCases\n",
    "    \n",
    "    estimatedDailyCases.append({\n",
    "        'datedata': nextDatedata,\n",
    "        'date': nextdate,\n",
    "        'estimate':newCases\n",
    "    })\n",
    "    \n",
    "    estimatedTotal.append({\n",
    "        'datedata':nextDatedata,\n",
    "        'date': nextdate,\n",
    "        'estimate':totalCases\n",
    "    })\n",
    "#estimatedGrowthrate"
   ]
  },
  {
   "cell_type": "code",
   "execution_count": 35,
   "metadata": {},
   "outputs": [],
   "source": [
    "#lets see the future daily cases result for Italy \n",
    "estimateddailycase_df = pd.DataFrame(estimatedDailyCases)"
   ]
  },
  {
   "cell_type": "code",
   "execution_count": 37,
   "metadata": {},
   "outputs": [
    {
     "data": {
      "text/html": [
       "<div>\n",
       "<style scoped>\n",
       "    .dataframe tbody tr th:only-of-type {\n",
       "        vertical-align: middle;\n",
       "    }\n",
       "\n",
       "    .dataframe tbody tr th {\n",
       "        vertical-align: top;\n",
       "    }\n",
       "\n",
       "    .dataframe thead th {\n",
       "        text-align: right;\n",
       "    }\n",
       "</style>\n",
       "<table border=\"1\" class=\"dataframe\">\n",
       "  <thead>\n",
       "    <tr style=\"text-align: right;\">\n",
       "      <th></th>\n",
       "      <th>datedata</th>\n",
       "      <th>date</th>\n",
       "      <th>estimate</th>\n",
       "    </tr>\n",
       "  </thead>\n",
       "  <tbody>\n",
       "    <tr>\n",
       "      <td>0</td>\n",
       "      <td>125</td>\n",
       "      <td>2020-05-05</td>\n",
       "      <td>2804.838699</td>\n",
       "    </tr>\n",
       "    <tr>\n",
       "      <td>1</td>\n",
       "      <td>126</td>\n",
       "      <td>2020-05-06</td>\n",
       "      <td>2724.741755</td>\n",
       "    </tr>\n",
       "    <tr>\n",
       "      <td>2</td>\n",
       "      <td>127</td>\n",
       "      <td>2020-05-07</td>\n",
       "      <td>2646.883004</td>\n",
       "    </tr>\n",
       "    <tr>\n",
       "      <td>3</td>\n",
       "      <td>128</td>\n",
       "      <td>2020-05-08</td>\n",
       "      <td>2571.201338</td>\n",
       "    </tr>\n",
       "    <tr>\n",
       "      <td>4</td>\n",
       "      <td>129</td>\n",
       "      <td>2020-05-09</td>\n",
       "      <td>2497.637276</td>\n",
       "    </tr>\n",
       "    <tr>\n",
       "      <td>5</td>\n",
       "      <td>130</td>\n",
       "      <td>2020-05-10</td>\n",
       "      <td>2426.132920</td>\n",
       "    </tr>\n",
       "    <tr>\n",
       "      <td>6</td>\n",
       "      <td>131</td>\n",
       "      <td>2020-05-11</td>\n",
       "      <td>2356.631919</td>\n",
       "    </tr>\n",
       "    <tr>\n",
       "      <td>7</td>\n",
       "      <td>132</td>\n",
       "      <td>2020-05-12</td>\n",
       "      <td>2289.079425</td>\n",
       "    </tr>\n",
       "    <tr>\n",
       "      <td>8</td>\n",
       "      <td>133</td>\n",
       "      <td>2020-05-13</td>\n",
       "      <td>2223.422054</td>\n",
       "    </tr>\n",
       "    <tr>\n",
       "      <td>9</td>\n",
       "      <td>134</td>\n",
       "      <td>2020-05-14</td>\n",
       "      <td>2159.607850</td>\n",
       "    </tr>\n",
       "  </tbody>\n",
       "</table>\n",
       "</div>"
      ],
      "text/plain": [
       "   datedata       date     estimate\n",
       "0       125 2020-05-05  2804.838699\n",
       "1       126 2020-05-06  2724.741755\n",
       "2       127 2020-05-07  2646.883004\n",
       "3       128 2020-05-08  2571.201338\n",
       "4       129 2020-05-09  2497.637276\n",
       "5       130 2020-05-10  2426.132920\n",
       "6       131 2020-05-11  2356.631919\n",
       "7       132 2020-05-12  2289.079425\n",
       "8       133 2020-05-13  2223.422054\n",
       "9       134 2020-05-14  2159.607850"
      ]
     },
     "execution_count": 37,
     "metadata": {},
     "output_type": "execute_result"
    }
   ],
   "source": [
    "estimateddailycase_df.head(10)"
   ]
  },
  {
   "cell_type": "code",
   "execution_count": 38,
   "metadata": {},
   "outputs": [],
   "source": [
    "#saving to csv file\n",
    "estimateddailycase_df.to_csv(\"EstimatedDailyCase.csv\",index = False)"
   ]
  },
  {
   "cell_type": "code",
   "execution_count": 39,
   "metadata": {},
   "outputs": [
    {
     "data": {
      "text/html": [
       "<div>\n",
       "<style scoped>\n",
       "    .dataframe tbody tr th:only-of-type {\n",
       "        vertical-align: middle;\n",
       "    }\n",
       "\n",
       "    .dataframe tbody tr th {\n",
       "        vertical-align: top;\n",
       "    }\n",
       "\n",
       "    .dataframe thead th {\n",
       "        text-align: right;\n",
       "    }\n",
       "</style>\n",
       "<table border=\"1\" class=\"dataframe\">\n",
       "  <thead>\n",
       "    <tr style=\"text-align: right;\">\n",
       "      <th></th>\n",
       "      <th>datedata</th>\n",
       "      <th>date</th>\n",
       "      <th>estimate</th>\n",
       "    </tr>\n",
       "  </thead>\n",
       "  <tbody>\n",
       "    <tr>\n",
       "      <td>0</td>\n",
       "      <td>125</td>\n",
       "      <td>2020-05-05</td>\n",
       "      <td>214742.838699</td>\n",
       "    </tr>\n",
       "    <tr>\n",
       "      <td>1</td>\n",
       "      <td>126</td>\n",
       "      <td>2020-05-06</td>\n",
       "      <td>217467.580454</td>\n",
       "    </tr>\n",
       "    <tr>\n",
       "      <td>2</td>\n",
       "      <td>127</td>\n",
       "      <td>2020-05-07</td>\n",
       "      <td>220114.463458</td>\n",
       "    </tr>\n",
       "    <tr>\n",
       "      <td>3</td>\n",
       "      <td>128</td>\n",
       "      <td>2020-05-08</td>\n",
       "      <td>222685.664796</td>\n",
       "    </tr>\n",
       "    <tr>\n",
       "      <td>4</td>\n",
       "      <td>129</td>\n",
       "      <td>2020-05-09</td>\n",
       "      <td>225183.302072</td>\n",
       "    </tr>\n",
       "    <tr>\n",
       "      <td>5</td>\n",
       "      <td>130</td>\n",
       "      <td>2020-05-10</td>\n",
       "      <td>227609.434992</td>\n",
       "    </tr>\n",
       "    <tr>\n",
       "      <td>6</td>\n",
       "      <td>131</td>\n",
       "      <td>2020-05-11</td>\n",
       "      <td>229966.066911</td>\n",
       "    </tr>\n",
       "    <tr>\n",
       "      <td>7</td>\n",
       "      <td>132</td>\n",
       "      <td>2020-05-12</td>\n",
       "      <td>232255.146337</td>\n",
       "    </tr>\n",
       "    <tr>\n",
       "      <td>8</td>\n",
       "      <td>133</td>\n",
       "      <td>2020-05-13</td>\n",
       "      <td>234478.568391</td>\n",
       "    </tr>\n",
       "    <tr>\n",
       "      <td>9</td>\n",
       "      <td>134</td>\n",
       "      <td>2020-05-14</td>\n",
       "      <td>236638.176241</td>\n",
       "    </tr>\n",
       "  </tbody>\n",
       "</table>\n",
       "</div>"
      ],
      "text/plain": [
       "   datedata       date       estimate\n",
       "0       125 2020-05-05  214742.838699\n",
       "1       126 2020-05-06  217467.580454\n",
       "2       127 2020-05-07  220114.463458\n",
       "3       128 2020-05-08  222685.664796\n",
       "4       129 2020-05-09  225183.302072\n",
       "5       130 2020-05-10  227609.434992\n",
       "6       131 2020-05-11  229966.066911\n",
       "7       132 2020-05-12  232255.146337\n",
       "8       133 2020-05-13  234478.568391\n",
       "9       134 2020-05-14  236638.176241"
      ]
     },
     "execution_count": 39,
     "metadata": {},
     "output_type": "execute_result"
    }
   ],
   "source": [
    "estimatedtotalcase_df = pd.DataFrame(estimatedTotal)\n",
    "estimatedtotalcase_df.head(10)"
   ]
  },
  {
   "cell_type": "code",
   "execution_count": 40,
   "metadata": {},
   "outputs": [],
   "source": [
    "estimatedtotalcase_df.to_csv(\"EstimatedTotalCase.csv\",index = False)"
   ]
  },
  {
   "cell_type": "code",
   "execution_count": null,
   "metadata": {},
   "outputs": [],
   "source": []
  }
 ],
 "metadata": {
  "kernelspec": {
   "display_name": "Python 3",
   "language": "python",
   "name": "python3"
  },
  "language_info": {
   "codemirror_mode": {
    "name": "ipython",
    "version": 3
   },
   "file_extension": ".py",
   "mimetype": "text/x-python",
   "name": "python",
   "nbconvert_exporter": "python",
   "pygments_lexer": "ipython3",
   "version": "3.7.4"
  }
 },
 "nbformat": 4,
 "nbformat_minor": 2
}
